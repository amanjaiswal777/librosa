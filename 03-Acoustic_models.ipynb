{
 "cells": [
  {
   "cell_type": "markdown",
   "metadata": {},
   "source": [
    "# Speech Recognition with Neural Networks\n"
   ]
  },
  {
   "cell_type": "markdown",
   "metadata": {},
   "source": [
    "In this notebook, you will build a deep neural network that functions as part of an end-to-end automatic speech recognition (ASR) pipeline! Your completed pipeline will accept raw audio as input and return a predicted transcription of the spoken language. The full pipeline is summarized in the figure below.\n",
    "\n",
    "\n",
    "\n",
    "STEP 1 is a pre-processing step that converts raw audio to one of two feature representations that are commonly used for ASR.\n",
    "STEP 2 is an acoustic model which accepts audio features as input and returns a probability distribution over all potential transcriptions. After learning about the basic types of neural networks that are often used for acoustic modeling, you will engage in your own investigations, to design your own acoustic model!\n",
    "STEP 3 in the pipeline takes the output from the acoustic model and returns a predicted transcription.\n",
    "\n",
    "The Data\n",
    "STEP 1: Acoustic Features for Speech Recognition\n",
    "STEP 2: Deep Neural Networks for Acoustic Modeling\n",
    "Model 0: RNN\n",
    "Model 1: RNN + TimeDistributed Dense\n",
    "Model 2: CNN + RNN + TimeDistributed Dense\n",
    "Model 3: Deeper RNN + TimeDistributed Dense\n",
    "Model 4: Bidirectional RNN + TimeDistributed Dense\n",
    "Models 5+\n",
    "Compare the Models\n",
    "Final Model\n",
    "STEP 3: Obtain Predictions\n"
   ]
  },
  {
   "cell_type": "code",
   "execution_count": 1,
   "metadata": {},
   "outputs": [
    {
     "name": "stderr",
     "output_type": "stream",
     "text": [
      "'apt-get' is not recognized as an internal or external command,\n",
      "operable program or batch file.\n"
     ]
    }
   ],
   "source": [
    "!apt-get install libav-tools"
   ]
  },
  {
   "cell_type": "code",
   "execution_count": null,
   "metadata": {},
   "outputs": [],
   "source": []
  }
 ],
 "metadata": {
  "kernelspec": {
   "display_name": "Python 3",
   "language": "python",
   "name": "python3"
  },
  "language_info": {
   "codemirror_mode": {
    "name": "ipython",
    "version": 3
   },
   "file_extension": ".py",
   "mimetype": "text/x-python",
   "name": "python",
   "nbconvert_exporter": "python",
   "pygments_lexer": "ipython3",
   "version": "3.7.4"
  }
 },
 "nbformat": 4,
 "nbformat_minor": 4
}
